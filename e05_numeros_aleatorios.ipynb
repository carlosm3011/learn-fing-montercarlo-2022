{
 "cells": [
  {
   "cell_type": "markdown",
   "id": "907cee1f",
   "metadata": {},
   "source": [
    "# Métodos Montecarlo Fing 2022 - Entrega 5 - Números aleatorios\n",
    "\n",
    "**Autor**: Carlos M. Martinez, mayo 2022. \n",
    "\n",
    "**Email**: carlosm@fing.edu.uy, carlos@cagnazzo.uy\n",
    "\n",
    "## Ejercicio 8.1\n",
    "\n",
    "### Parte a:\n",
    "\n",
    "Elegir al menos dos fuentes de números aleatorios disponibles en Internet (sitio o tabla con valores). Explicar cómo funcionan, como se accede a los números, y que características tienen.\n",
    "\n",
    "#### Fuente (1) QRNG Service de la Universidad de Berlín Humboldt\n",
    "\n",
    "Link: [Sitio web de la Universidad Humboldt de Berlín, QRNG](https://qrng.physik.hu-berlin.de/)\n",
    "\n",
    "El servicio QRNG de la Universidad Humboldt de Berín [QRNGBER](https://qrng.physik.hu-berlin.de/) es un servicio de generación de números aleatorios basado en un fenómeno físico, el tiempo de llegada de fotones a un sensor. ESte fenómeno tiene características cuánticas que hacen que naturalmente sea un fenómeno probabilistico. \n",
    "\n",
    "Según los autores los números aleatorios generados son de buena calidad y el equipo puede construirse relativamente a bajo costo.\n",
    "\n",
    "El acceso a [QRNGBER](https://qrng.physik.hu-berlin.de/) se realiza via web. El servicio requiere un registro previo pero no tiene costo. Le pueden bajar archivos de 1MB, 15MB y 100MB con bytes generados aleatoriamente. Los autores aseguran que ningun archivo bajado se repite, y de hecho tienen un contador en la página que muestra cuantos petabytes de \"random data\" llevan entregados.\n",
    "\n",
    "También los autores hacen disponible algunas utilidades y librerías que permiten acceder al servicio programáticamente sin bajar manualmente archivos. Lamentablemente no se encuentra una documentación del API de esta librería que permita por ejemplo escribir un cliente Python nativo.\n",
    "\n",
    "#### Fuente (2) RAND Book of 1 Million Random Numbers\n",
    "\n",
    "En 1947 la [RAND Corporation](https://www.rand.org), como respuesta a la creciente demanda de realización de simulaciones publicó un libro conteniendo una tabla de un millón de dígitos generados aleatoriamente. Para generar la primera edición de esta tabla construyeron un dispositivo que utilizaba una rueda de ruleta preparada de tal forma que el resultado de cada jugada podía ser leído por una computadora electrónica [Wiki1](https://en.wikipedia.org/wiki/A_Million_Random_Digits_with_100,000_Normal_Deviates). Durante muchos años esta tabla fue referencia obligada de expertos de diferentes areas de la ciencia.\n",
    "\n",
    "La lectura de los dígitos de la ruleta tenía sesgos significativos que fueron corregidos previamente a la producción de la tabla publicada.\n",
    "\n",
    "En 2001 RAND publicó una nueva edición de este libro, la cual está disponible gratuitamente a través de la web de RAND en [A Million Random Digits with 100,000 Normal Deviates](https://www.rand.org/pubs/monograph_reports/MR1418.html). \n",
    "\n",
    "La utilización de la tabla implica los siguientes pasos.\n",
    "\n",
    "- Seleccionar una posición de arranque.\n",
    "   - La tabla contiene 20.000 líneas de 50 dígitos cada una, agrupados en \"palabras\" de 5 dígitos. La versión en papel del libro tiene 400 páginas.\n",
    "   - En la época en la que se utilizaba el libro impreso en papel lo que se hacía era abrir el libro en una página al azar, de esa página elegir un grupo de 5 digitos al azar."
   ]
  },
  {
   "cell_type": "code",
   "execution_count": 1,
   "id": "320378d7",
   "metadata": {},
   "outputs": [
    {
     "data": {
      "text/plain": [
       "'Volúmenes en R^N MMC v0.1.1 - Carlos Martinez marzo 2022'"
      ]
     },
     "execution_count": 1,
     "metadata": {},
     "output_type": "execute_result"
    }
   ],
   "source": [
    "import random\n",
    "import math\n",
    "import pandas\n",
    "from IPython.core.display import HTML\n",
    "random.seed()\n",
    "\n",
    "import cm2c.fing.mmc.volumen as mmc\n",
    "import cm2c.fing.mmc.utils as mmcutils\n",
    "reloj_ppal = mmcutils.timeit()\n",
    "mmc.version()"
   ]
  },
  {
   "cell_type": "markdown",
   "id": "624778f3",
   "metadata": {},
   "source": [
    "### Parte b:\n",
    "\n",
    "En base a este análisis, elegir una de las fuentes, fundamentar la selección, y modificar el ejercicio 3.1, parte a (visto en la sesión 3) para que\n",
    "emplee dichos números aleatorios (en lugar de los generados por bibliotecas como hasta el momento). Comparar si la salida obtenida es consistente o\n",
    "no con la obtenida en los experimentos de la parte a del ejercicio 3.1.\n",
    "\n",
    "#### Resolución\n",
    "\n",
    "Selecciono la fuente de números aleatorios de QRNG. Voy a utilizar un archivo bajado de 15MB generado el 21 de mayo de 2022 a las 12.30 UTC-3.\n",
    "\n",
    "La forma de obtener números al azar de este archivo será de la siguiente forma:\n",
    "\n",
    "- abrir el archivo desde python en formato binario\n",
    "- cargar el archivo de 15MB en memoria (para lograr mejor velocidad) en un array\n",
    "- seleccionar un indice de partida utilizando el generador pseudo aleatorio del sistema\n",
    "- leer el array considerandolo una estructura circular generando numeros aleatorios en el intervalo [0,255]"
   ]
  },
  {
   "cell_type": "code",
   "execution_count": 2,
   "id": "f2f0c8cd",
   "metadata": {},
   "outputs": [
    {
     "name": "stdout",
     "output_type": "stream",
     "text": [
      "[36, 229, 96, 148, 250, 123, 134, 0, 138, 185]\n",
      "0.9215686274509803\n"
     ]
    }
   ],
   "source": [
    "class QRNG_UBerlin:\n",
    "    qrng_data_file = \"rnd/sampledata-15MB.bin\"\n",
    "\n",
    "    def __init__(self):\n",
    "        with open(self.qrng_data_file, \"rb\") as file:\n",
    "            self.qrng_data = file.read()\n",
    "        \n",
    "        self._ix = random.randint(0, len(self.qrng_data)-1 )\n",
    "\n",
    "    def _sampleone(self):\n",
    "        \"\"\"\n",
    "        Devuelve una muestra considerando el archivo como una estructura circular.\n",
    "        \"\"\"\n",
    "        r = self.qrng_data[self._ix]\n",
    "        self._ix = self._ix + 1\n",
    "        if self._ix == len(self.qrng_data):\n",
    "            self._ix = 0\n",
    "        return r\n",
    "    # end def\n",
    "\n",
    "    def sample(self, n):\n",
    "        \"\"\"\n",
    "        Devuelve n muestras del archivo fuente aleatorio.\n",
    "        \"\"\"\n",
    "        r = []\n",
    "        for x in range(n):\n",
    "            r.append(self._sampleone())\n",
    "        return r\n",
    "    # end def\n",
    "\n",
    "    def uniform(self, a, b):\n",
    "        \"\"\"\n",
    "        Al igual que random.uniform devuelve un float entre a y b.\n",
    "        \"\"\"\n",
    "        k = 1\n",
    "\n",
    "        p = self._sampleone()\n",
    "\n",
    "        # self._ix = (self._ix + p ) % len(self.qrng_data)\n",
    "\n",
    "        s = self.sample(k)\n",
    "\n",
    "        sc = 1/255\n",
    "\n",
    "        # rbase = s[3]*sc + s[2]*(sc**2) + s[1]*(sc**3) + s[0]*(sc**4)\n",
    "        rbase = 0\n",
    "        for i in range(k):\n",
    "            rbase = rbase + s[i]*(sc**(k-i))\n",
    "\n",
    "        r = a + rbase*(b-a)\n",
    "\n",
    "        return r\n",
    "    # end def\n",
    "# end class\n",
    "\n",
    "qrng = QRNG_UBerlin()\n",
    "print(qrng.sample(10))\n",
    "\n",
    "print(qrng.uniform(0,1))"
   ]
  },
  {
   "cell_type": "code",
   "execution_count": 3,
   "id": "0cb05422",
   "metadata": {},
   "outputs": [
    {
     "data": {
      "text/plain": [
       "[0.2823529411764706,\n",
       " 0.2823529411764706,\n",
       " 0.5607843137254902,\n",
       " 0.792156862745098,\n",
       " 0.06274509803921569,\n",
       " 0.6274509803921569]"
      ]
     },
     "execution_count": 3,
     "metadata": {},
     "output_type": "execute_result"
    }
   ],
   "source": [
    "import random\n",
    "import math\n",
    "import tabulate\n",
    "import time\n",
    "random.seed()\n",
    "\n",
    "def puntoDentroVolumen(punto, restricciones=True):\n",
    "    \"\"\"\n",
    "    Devuelve 0 o 1 si un punto esta fuera o dentro de un cierto volumen.\n",
    "    Si restricciones es \"false\", el volumen es la hiperesfera en R6\n",
    "    \"\"\"\n",
    "\n",
    "    # Para que este dentro del volumen tiene que estar dentro de la esfera \n",
    "    # y ademas cumplir con las restricciones adicionales\n",
    "\n",
    "    dentro = 1\n",
    "    fuera = 0\n",
    "\n",
    "    # chequeo 1 : dentro de esfera\n",
    "\n",
    "    d = math.sqrt(\n",
    "        (punto[0]-0.45)**2 +\n",
    "        (punto[1]-0.5)**2 +\n",
    "        (punto[2]-0.6)**2 +\n",
    "        (punto[3]-0.6)**2 +\n",
    "        (punto[4]-0.5)**2 +\n",
    "        (punto[5]-0.45)**2 \n",
    "    )\n",
    "\n",
    "    # si la distancia es mayor al radio, esta fuera\n",
    "    if (d>=0.35) : \n",
    "        return fuera\n",
    "\n",
    "    if restricciones:\n",
    "        # restriccion 1\n",
    "        if 3*punto[0] + 7*punto[3] > 5:\n",
    "            return fuera\n",
    "        # restriccion 2\n",
    "        if punto[2]+punto[3] > 1:\n",
    "            return fuera\n",
    "        # restriccion 3\n",
    "        if punto[0]-punto[1]-punto[4]+punto[5] < 0:\n",
    "            return fuera\n",
    "    else:\n",
    "        return dentro\n",
    "\n",
    "    return dentro\n",
    "# end fun punto dentro del volumen\n",
    "\n",
    "mmc.sortearPuntoRN(6, qrng.uniform)"
   ]
  },
  {
   "cell_type": "code",
   "execution_count": 4,
   "id": "f0552947",
   "metadata": {},
   "outputs": [
    {
     "name": "stdout",
     "output_type": "stream",
     "text": [
      "Volumen hiper esfera por MMC = 9.590000e-03, Varianza = 9.498127e-08\n",
      " \n",
      "Volumen hiper esfera analitico = 9.499629e-03, diferencia MMC - analitico = -0.942%\n"
     ]
    }
   ],
   "source": [
    "VolHEAnalitico = math.pi**3*(0.35**6)/6\n",
    "\n",
    "# Caclulo del volumen de la hiperesfera por MMC\n",
    "(VolR, VarVolR, S, execTime) = mmc.MetodoMonteCarlo(10**5, lambda x: puntoDentroVolumen(x, False), qrng.uniform)\n",
    "\n",
    "print(\"Volumen hiper esfera por MMC = {:e}, Varianza = {:e}\".format(VolR, VarVolR))\n",
    "\n",
    "print(\" \")\n",
    "print(\"Volumen hiper esfera analitico = {:e}, diferencia MMC - analitico = {:.3f}%\".format(VolHEAnalitico, (VolHEAnalitico-VolR)/VolR*100))"
   ]
  },
  {
   "cell_type": "markdown",
   "id": "fef24a1a",
   "metadata": {},
   "source": [
    "#### Comparación entre calculo con pseudo-random y QRNG del volumen de la hiperesfera\n",
    "\n",
    "En esta seccion corremos MMC para calcular el volumen de la hiperesfera en R^6 para diferentes tamanos de muestra, usando tanto numeros generados con el pseudo-random como con los numeros bajados del servicio QRNG.\n",
    "\n",
    "El segundo parámetro booleano en \"False\" indica a la función \"puntoDentroVolumen\" que no debe aplicar las restricciones adicionales."
   ]
  },
  {
   "cell_type": "code",
   "execution_count": 5,
   "id": "a438f0a8",
   "metadata": {},
   "outputs": [
    {
     "data": {
      "text/html": [
       "<table>\n",
       "<tbody>\n",
       "<tr><td>N       </td><td>Vol HE (analitico)</td><td>S (Pseudo)</td><td>Vol HE (Pseudo)</td><td>Var. (Pseudo)</td><td>Dif% (Pseudo)</td><td>T (s) (Pseudo)</td><td>S (qrng)</td><td>Vol HE (qrng)</td><td>Var. (qrng) </td><td>Dif% (qrng)</td><td>T (s) (qrng)</td></tr>\n",
       "<tr><td>10000   </td><td>9.499629e-03      </td><td>96        </td><td>9.600000e-03   </td><td>9.508791e-07 </td><td>-1.046%      </td><td>0.059338      </td><td>88      </td><td>8.800000e-03 </td><td>8.723432e-07</td><td>7.950%     </td><td>0.209481    </td></tr>\n",
       "<tr><td>100000  </td><td>9.499629e-03      </td><td>1048      </td><td>1.048000e-02   </td><td>1.037027e-07 </td><td>-9.355%      </td><td>0.049514      </td><td>816     </td><td>8.160000e-03 </td><td>8.093495e-08</td><td>16.417%    </td><td>0.322324    </td></tr>\n",
       "<tr><td>100000  </td><td>9.499629e-03      </td><td>992       </td><td>9.920000e-03   </td><td>9.821692e-08 </td><td>-4.238%      </td><td>0.048696      </td><td>992     </td><td>9.920000e-03 </td><td>9.821692e-08</td><td>-4.238%    </td><td>0.277980    </td></tr>\n",
       "<tr><td>1000000 </td><td>9.499629e-03      </td><td>9200      </td><td>9.200000e-03   </td><td>9.115369e-09 </td><td>3.257%       </td><td>0.392603      </td><td>9304    </td><td>9.304000e-03 </td><td>9.217445e-09</td><td>2.103%     </td><td>1.694371    </td></tr>\n",
       "<tr><td>1000000 </td><td>9.499629e-03      </td><td>9656      </td><td>9.656000e-03   </td><td>9.562771e-09 </td><td>-1.619%      </td><td>0.386925      </td><td>9456    </td><td>9.456000e-03 </td><td>9.366593e-09</td><td>0.461%     </td><td>1.677409    </td></tr>\n",
       "<tr><td>10000000</td><td>9.499629e-03      </td><td>94248     </td><td>9.424800e-03   </td><td>9.335974e-10 </td><td>0.794%       </td><td>4.355111      </td><td>93896   </td><td>9.389600e-03 </td><td>9.301436e-10</td><td>1.172%     </td><td>15.633810   </td></tr>\n",
       "</tbody>\n",
       "</table>"
      ],
      "text/plain": [
       "'<table>\\n<tbody>\\n<tr><td>N       </td><td>Vol HE (analitico)</td><td>S (Pseudo)</td><td>Vol HE (Pseudo)</td><td>Var. (Pseudo)</td><td>Dif% (Pseudo)</td><td>T (s) (Pseudo)</td><td>S (qrng)</td><td>Vol HE (qrng)</td><td>Var. (qrng) </td><td>Dif% (qrng)</td><td>T (s) (qrng)</td></tr>\\n<tr><td>10000   </td><td>9.499629e-03      </td><td>96        </td><td>9.600000e-03   </td><td>9.508791e-07 </td><td>-1.046%      </td><td>0.059338      </td><td>88      </td><td>8.800000e-03 </td><td>8.723432e-07</td><td>7.950%     </td><td>0.209481    </td></tr>\\n<tr><td>100000  </td><td>9.499629e-03      </td><td>1048      </td><td>1.048000e-02   </td><td>1.037027e-07 </td><td>-9.355%      </td><td>0.049514      </td><td>816     </td><td>8.160000e-03 </td><td>8.093495e-08</td><td>16.417%    </td><td>0.322324    </td></tr>\\n<tr><td>100000  </td><td>9.499629e-03      </td><td>992       </td><td>9.920000e-03   </td><td>9.821692e-08 </td><td>-4.238%      </td><td>0.048696      </td><td>992     </td><td>9.920000e-03 </td><td>9.821692e-08</td><td>-4.238%    </td><td>0.277980    </td></tr>\\n<tr><td>1000000 </td><td>9.499629e-03      </td><td>9200      </td><td>9.200000e-03   </td><td>9.115369e-09 </td><td>3.257%       </td><td>0.392603      </td><td>9304    </td><td>9.304000e-03 </td><td>9.217445e-09</td><td>2.103%     </td><td>1.694371    </td></tr>\\n<tr><td>1000000 </td><td>9.499629e-03      </td><td>9656      </td><td>9.656000e-03   </td><td>9.562771e-09 </td><td>-1.619%      </td><td>0.386925      </td><td>9456    </td><td>9.456000e-03 </td><td>9.366593e-09</td><td>0.461%     </td><td>1.677409    </td></tr>\\n<tr><td>10000000</td><td>9.499629e-03      </td><td>94248     </td><td>9.424800e-03   </td><td>9.335974e-10 </td><td>0.794%       </td><td>4.355111      </td><td>93896   </td><td>9.389600e-03 </td><td>9.301436e-10</td><td>1.172%     </td><td>15.633810   </td></tr>\\n</tbody>\\n</table>'"
      ]
     },
     "execution_count": 5,
     "metadata": {},
     "output_type": "execute_result"
    }
   ],
   "source": [
    "table = [ ['N', 'Vol HE (analitico)', \n",
    "            'S (Pseudo)', 'Vol HE (Pseudo)', 'Var. (Pseudo)', 'Dif% (Pseudo)','T (s) (Pseudo)',\n",
    "            'S (qrng)', 'Vol HE (qrng)', 'Var. (qrng)', 'Dif% (qrng)', 'T (s) (qrng)'\n",
    "        ], ]\n",
    "\n",
    "for n in [4, 5, 5, 6, 6, 7]:\n",
    "    (VolR, VarVolR, S, execTime) = mmc.MetodoMonteCarloParalelo(10**n, 8, lambda x: puntoDentroVolumen(x, False))\n",
    "    qrng2 = QRNG_UBerlin()\n",
    "    (VolRq, VarVolRq, Sq, execTimeq) = mmc.MetodoMonteCarloParalelo(10**n, 8, lambda x: puntoDentroVolumen(x, False), qrng2.uniform)\n",
    "    table.append( \n",
    "        [\n",
    "            10**n, \"{:3e}\".format(VolHEAnalitico),\n",
    "            S, \"{:3e}\".format(VolR), \"{:3e}\".format(VarVolR), \"{:.3f}%\".format((VolHEAnalitico-VolR)/VolR*100) , \"{:3f}\".format(execTime),\n",
    "            Sq, \"{:3e}\".format(VolRq), \"{:3e}\".format(VarVolRq), \"{:.3f}%\".format((VolHEAnalitico-VolRq)/VolRq*100) , \"{:3f}\".format(execTimeq)\n",
    "        ]\n",
    "     )\n",
    "\n",
    "\n",
    "tabulate.tabulate(table, tablefmt='html')"
   ]
  },
  {
   "cell_type": "markdown",
   "id": "5f8f7474",
   "metadata": {},
   "source": [
    "#### Comparación entre calculo con pseudo-random y QRNG del volumen con restricciones.\n",
    "\n",
    "En esta seccion corremos MMC para calcular el volumen de la hiperesfera restringida en R^6 para diferentes tamanos de muestra, usando tanto numeros generados con el pseudo-random como con los numeros bajados del servicio QRNG.\n",
    "\n",
    "El segundo parámetro booleano en \"True\" indica a la función \"puntoDentroVolumen\" que no debe aplicar las restricciones adicionales."
   ]
  },
  {
   "cell_type": "code",
   "execution_count": 6,
   "id": "9512f928",
   "metadata": {},
   "outputs": [
    {
     "name": "stderr",
     "output_type": "stream",
     "text": [
      "/tmp/ipykernel_18537/853280894.py:14: RuntimeWarning: divide by zero encountered in double_scalars\n",
      "  ic_relq = (ipqu-ipql)*100/VolRq\n"
     ]
    },
    {
     "data": {
      "text/html": [
       "<table>\n",
       "<tbody>\n",
       "<tr><td>N       </td><td>S (Pseudo)</td><td>Vol HE (Pseudo)</td><td>Var. (Pseudo)</td><td>Spread (pseudo)</td><td>T (s) (Pseudo)</td><td>S (qrng)</td><td>Vol HE (qrng)</td><td>Var. (qrng) </td><td>Spread (qrng)</td><td>T (s) (qrng)</td></tr>\n",
       "<tr><td>100000  </td><td>24        </td><td>2.400000e-04   </td><td>2.399448e-09 </td><td>83.141%        </td><td>0.054522      </td><td>0       </td><td>0.000000e+00 </td><td>0.000000e+00</td><td>inf%         </td><td>0.283499    </td></tr>\n",
       "<tr><td>100000  </td><td>40        </td><td>4.000000e-04   </td><td>3.998440e-09 </td><td>63.434%        </td><td>0.049569      </td><td>16      </td><td>1.600000e-04 </td><td>1.599760e-09</td><td>103.700%     </td><td>0.260335    </td></tr>\n",
       "<tr><td>1000000 </td><td>288       </td><td>2.880000e-04   </td><td>2.879173e-10 </td><td>23.172%        </td><td>0.406516      </td><td>264     </td><td>2.640000e-04 </td><td>2.639306e-10</td><td>24.210%      </td><td>1.626448    </td></tr>\n",
       "<tr><td>1000000 </td><td>320       </td><td>3.200000e-04   </td><td>3.198979e-10 </td><td>21.975%        </td><td>0.407966      </td><td>320     </td><td>3.200000e-04 </td><td>3.198979e-10</td><td>21.975%      </td><td>1.597298    </td></tr>\n",
       "<tr><td>10000000</td><td>3040      </td><td>3.040000e-04   </td><td>3.039076e-11 </td><td>7.111%         </td><td>3.911319      </td><td>2872    </td><td>2.872000e-04 </td><td>2.871175e-11</td><td>7.316%       </td><td>14.926803   </td></tr>\n",
       "</tbody>\n",
       "</table>"
      ],
      "text/plain": [
       "'<table>\\n<tbody>\\n<tr><td>N       </td><td>S (Pseudo)</td><td>Vol HE (Pseudo)</td><td>Var. (Pseudo)</td><td>Spread (pseudo)</td><td>T (s) (Pseudo)</td><td>S (qrng)</td><td>Vol HE (qrng)</td><td>Var. (qrng) </td><td>Spread (qrng)</td><td>T (s) (qrng)</td></tr>\\n<tr><td>100000  </td><td>24        </td><td>2.400000e-04   </td><td>2.399448e-09 </td><td>83.141%        </td><td>0.054522      </td><td>0       </td><td>0.000000e+00 </td><td>0.000000e+00</td><td>inf%         </td><td>0.283499    </td></tr>\\n<tr><td>100000  </td><td>40        </td><td>4.000000e-04   </td><td>3.998440e-09 </td><td>63.434%        </td><td>0.049569      </td><td>16      </td><td>1.600000e-04 </td><td>1.599760e-09</td><td>103.700%     </td><td>0.260335    </td></tr>\\n<tr><td>1000000 </td><td>288       </td><td>2.880000e-04   </td><td>2.879173e-10 </td><td>23.172%        </td><td>0.406516      </td><td>264     </td><td>2.640000e-04 </td><td>2.639306e-10</td><td>24.210%      </td><td>1.626448    </td></tr>\\n<tr><td>1000000 </td><td>320       </td><td>3.200000e-04   </td><td>3.198979e-10 </td><td>21.975%        </td><td>0.407966      </td><td>320     </td><td>3.200000e-04 </td><td>3.198979e-10</td><td>21.975%      </td><td>1.597298    </td></tr>\\n<tr><td>10000000</td><td>3040      </td><td>3.040000e-04   </td><td>3.039076e-11 </td><td>7.111%         </td><td>3.911319      </td><td>2872    </td><td>2.872000e-04 </td><td>2.871175e-11</td><td>7.316%       </td><td>14.926803   </td></tr>\\n</tbody>\\n</table>'"
      ]
     },
     "execution_count": 6,
     "metadata": {},
     "output_type": "execute_result"
    }
   ],
   "source": [
    "table = [ ['N',  \n",
    "            'S (Pseudo)', 'Vol HE (Pseudo)', 'Var. (Pseudo)','Spread (pseudo)', 'T (s) (Pseudo)',\n",
    "            'S (qrng)', 'Vol HE (qrng)', 'Var. (qrng)', 'Spread (qrng)','T (s) (qrng)'\n",
    "        ], ]\n",
    "\n",
    "for n in [5, 5, 6, 6, 7]:\n",
    "    (VolR, VarVolR, S, execTime) = mmc.MetodoMonteCarloParalelo(10**n, 8, lambda x: puntoDentroVolumen(x, True))\n",
    "    (ipl, ipu) = mmc.intConfianzaAC(S, 10**n, 0.05)\n",
    "    ic_rel = (ipu-ipl)*100/VolR\n",
    "    #\n",
    "    qrng = QRNG_UBerlin()\n",
    "    (VolRq, VarVolRq, Sq, execTimeq) = mmc.MetodoMonteCarloParalelo(10**n, 8, lambda x: puntoDentroVolumen(x, True), qrng.uniform)\n",
    "    (ipql, ipqu) = mmc.intConfianzaAC(Sq, 10**n, 0.05)\n",
    "    ic_relq = (ipqu-ipql)*100/VolRq\n",
    "    #\n",
    "    table.append( \n",
    "        [\n",
    "            10**n, \n",
    "            S, \"{:3e}\".format(VolR), \"{:3e}\".format(VarVolR), \"{:.3f}%\".format(ic_rel) ,\"{:3f}\".format(execTime),\n",
    "            Sq, \"{:3e}\".format(VolRq), \"{:3e}\".format(VarVolRq), \"{:.3f}%\".format(ic_relq), \"{:3f}\".format(execTimeq)\n",
    "        ]\n",
    "     )\n",
    "## end for\n",
    "\n",
    "\n",
    "tabulate.tabulate(table, tablefmt='html')"
   ]
  },
  {
   "cell_type": "markdown",
   "id": "5cbac3c2",
   "metadata": {},
   "source": [
    "## Conlusiones\n",
    "\n",
    "Los resultados obtenidos el generador de números aleatorios de Python y el obtenido del servicio QRNG son consistentes. Sin embargo para la mayor parte de las corridas el resultado obtenido con el generador pseudo-random de Python es de igual calidad y es bastante más rapido.\n",
    "\n",
    "Seguramente la forma en la que utilizo el stream de bytes aleatorios para generar un float entre (0 y 1) no es la mejor."
   ]
  },
  {
   "cell_type": "markdown",
   "id": "8a5b2b0a",
   "metadata": {},
   "source": [
    "## Datos adicionales y referencias\n",
    "\n",
    "### Información acerca del software y hardware utilizados\n",
    "\n",
    "**Software:**\n",
    " - Python 3.8.10 corriendo en Windows WSL2 (Windows Subsystem for Linux)\n",
    " - Jupyter Notebook \n",
    " \n",
    "**Librerias:** \n",
    " - scipy norm\n",
    " - pathos multiprocessing (para paralelizar ejecuciones)\n",
    " \n",
    "**Hardware:**\n",
    "\n",
    " - PC Windows 11, con WSL2\n",
    " - CPU Intel Core i5 10400F (6 cores, 12 threads de hardware)\n",
    " - 16 GB de RAM"
   ]
  },
  {
   "cell_type": "code",
   "execution_count": 7,
   "id": "4eabefb3",
   "metadata": {},
   "outputs": [
    {
     "name": "stdout",
     "output_type": "stream",
     "text": [
      "%% FIN - tiempo total de ejecución 49.923s\n"
     ]
    }
   ],
   "source": [
    "print(f\"%% FIN - tiempo total de ejecución {reloj_ppal.lap():.3f}s\")"
   ]
  },
  {
   "cell_type": "markdown",
   "id": "70469089",
   "metadata": {},
   "source": [
    "## Código de las funciones desarrolladas   \n",
    "\n",
    "Adjunto en el archivo _\"aleatorios.py.pdf\"_."
   ]
  }
 ],
 "metadata": {
  "interpreter": {
   "hash": "02660ba9e28c4086f0f0a2fdb5076d32451f0aa291fdc88708d8d2eeb326b78d"
  },
  "kernelspec": {
   "display_name": "Python 3.8.10 ('fing-montercarlo-2022.git-lPbgG7Xh')",
   "language": "python",
   "name": "python3"
  },
  "language_info": {
   "codemirror_mode": {
    "name": "ipython",
    "version": 3
   },
   "file_extension": ".py",
   "mimetype": "text/x-python",
   "name": "python",
   "nbconvert_exporter": "python",
   "pygments_lexer": "ipython3",
   "version": "3.8.10"
  }
 },
 "nbformat": 4,
 "nbformat_minor": 5
}
