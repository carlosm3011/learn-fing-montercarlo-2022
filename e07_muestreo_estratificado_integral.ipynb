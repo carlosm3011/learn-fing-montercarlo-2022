{
 "cells": [
  {
   "cell_type": "markdown",
   "id": "907cee1f",
   "metadata": {},
   "source": [
    "# Métodos Montecarlo Fing 2022 - Entrega 7\n",
    "\n",
    "**Autor**: Carlos M. Martinez, junio 2022. \n",
    "\n",
    "**Email**: carlosm@fing.edu.uy, carlos@cagnazzo.uy\n",
    "\n"
   ]
  },
  {
   "cell_type": "code",
   "execution_count": 1,
   "id": "4b7fdb15",
   "metadata": {},
   "outputs": [
    {
     "data": {
      "text/plain": [
       "'Integracion MMC v0.1.3 - Carlos Martinez abril-mayo 2022'"
      ]
     },
     "execution_count": 1,
     "metadata": {},
     "output_type": "execute_result"
    }
   ],
   "source": [
    "import random\n",
    "import math\n",
    "import tabulate\n",
    "import time\n",
    "from IPython.core.display import HTML\n",
    "random.seed()\n",
    "\n",
    "import cm2c.fing.mmc.integral as mmci\n",
    "import cm2c.fing.mmc.utils as mmcutils\n",
    "reloj_ppal = mmcutils.timeit()\n",
    "mmci.version()"
   ]
  },
  {
   "cell_type": "markdown",
   "id": "f1b6bec3",
   "metadata": {},
   "source": [
    "## Ejercicio 14.1\n",
    "\n",
    "#### Problema: \n",
    "Se desea estimar la integral de la función $$F5(X) = x_1*x_2^2*x3^3*x_4^4*x_5^5$$ sobre el\n",
    "hipercubo $J^m$ de dimensión $m = 5$.\n",
    "\n"
   ]
  },
  {
   "cell_type": "markdown",
   "id": "bdb6dab0",
   "metadata": {},
   "source": [
    "### Valor analítico de la integral de F5 en J^5\n",
    "\n",
    "El valor de esta integral en particular se puede calcular analíticamente de forma sencilla:\n",
    "\n",
    "Cálculo analítico de la integral de la función F5 en J^5:\n",
    "\n",
    "![Calculo analítico de la integral de F5](integral_analitica.gif \"Cálculo analítico del valor de la integral en J^5 de F5\")"
   ]
  },
  {
   "cell_type": "code",
   "execution_count": 2,
   "id": "0d880d82-7903-4977-8d0c-bad2baa879d5",
   "metadata": {},
   "outputs": [
    {
     "data": {
      "text/html": [
       "<h4>El valor calculado analíticamente para la integral es: 0.0013888889</h4>"
      ],
      "text/plain": [
       "<IPython.core.display.HTML object>"
      ]
     },
     "execution_count": 2,
     "metadata": {},
     "output_type": "execute_result"
    }
   ],
   "source": [
    "# defino variable con el valor analítico de la integral\n",
    "\n",
    "VAnalitico = 1.0 / 720.0\n",
    "\n",
    "HTML(f\"<h4>El valor calculado analíticamente para la integral es: {VAnalitico:.10f}</h4>\")"
   ]
  },
  {
   "cell_type": "markdown",
   "id": "66e6513e-7bdd-46c0-9551-a39356e2ae1a",
   "metadata": {},
   "source": [
    "**(Del ejercicio 6.2, para tener luego para compararar)**\n",
    "\n",
    "Revisar los códigos preparados para el ejercicio 6.1, elegir uno\n",
    "de ellos como punto de partida.\n",
    "\n",
    "Sobre esa base, modificarlo para realizar cálculo por Monte Carlo de la integral planteada en el ejercicio\n",
    "6.2. Realizar 10^6 replicaciones y estimar el valor de ζ. Calcular analíticamente el valor exacto de la integral."
   ]
  },
  {
   "cell_type": "code",
   "execution_count": 3,
   "id": "8b6b260f",
   "metadata": {},
   "outputs": [
    {
     "data": {
      "text/html": [
       "<h4>Estimación de la integral simple: 0.0013920</h4><h4>Estimación de la varianza : 9.3652532e-11</h4><h4>Intervalo de confianza : (0.0013731, 0.0014110)</h4><h4>Ancho del I. de confianza : (3.7934804e-05)</h4><h4>Error real respecto al VAnalitico (3.1583296e-06)</h4><h4>Error real en pct : 0.227%</h4>"
      ],
      "text/plain": [
       "<IPython.core.display.HTML object>"
      ]
     },
     "execution_count": 3,
     "metadata": {},
     "output_type": "execute_result"
    }
   ],
   "source": [
    "# Definimos la función\n",
    "\n",
    "def F5(x):\n",
    "    \"\"\"\n",
    "    x es un vector en R^5\n",
    "    \"\"\"\n",
    "    return x[0] * (x[1]**2) *  (x[2]**3) * (x[3]**4) * (x[4]**5)\n",
    "# end def\n",
    "\n",
    "# Calculo la integral con 10^6 replicas\n",
    "N = 10**6\n",
    "\n",
    "(estimZ, estimV, _, _) = mmci.integracionMonteCarlo(F5, N, lambda x: mmcutils.sortearPuntoRN(5) )\n",
    "\n",
    "(I0, I1) = mmci.intConfianzaAproxNormal(estimZ, estimV, N, 0.05)\n",
    "anchoIC = I1-I0\n",
    "errorReal = abs(estimZ-VAnalitico)\n",
    "errorRealpct = errorReal/VAnalitico*100\n",
    "\n",
    "HTML(f\"<h4>Estimación de la integral simple: {estimZ:.7f}</h4>\"+\n",
    "     f\"<h4>Estimación de la varianza : {estimV:.7e}</h4>\"+\n",
    "     f\"<h4>Intervalo de confianza : ({I0:.7f}, {I1:.7f})</h4>\"+\n",
    "     f\"<h4>Ancho del I. de confianza : ({anchoIC:.7e})</h4>\"+\n",
    "     f\"<h4>Error real respecto al VAnalitico ({errorReal:.7e})</h4>\"+\n",
    "     f\"<h4>Error real en pct : {errorRealpct:.3f}%</h4>\")\n",
    "\n"
   ]
  },
  {
   "cell_type": "markdown",
   "id": "d09e7b8b",
   "metadata": {},
   "source": [
    "## Ejercicio 14.1 (grupal)\n",
    "\n",
    "Dividiendo la dimensión $x_5$ definimos los siguientes estratos:\n",
    "\n",
    "- [0, 0.72)\n",
    "- [0.72, 0.83)\n",
    "- [0.83, 0.90)\n",
    "- [0.90, 0.95)\n",
    "- [0.95, 1.00]\n",
    "\n",
    "Se pide realizar dos experimentos:\n",
    "\n",
    "1. Tomando $10^6/5$ iteraciones en cada estrato\n",
    "2. Tomando una cantidad de iteraciones proporcional a la probablidad de ocurrencia en cada estrato"
   ]
  },
  {
   "cell_type": "code",
   "execution_count": 4,
   "id": "d68eef9c",
   "metadata": {},
   "outputs": [
    {
     "data": {
      "text/plain": [
       "[0.21014085130565618, 0.6973889118021566]"
      ]
     },
     "execution_count": 4,
     "metadata": {},
     "output_type": "execute_result"
    }
   ],
   "source": [
    "# testo el generador de puntos al azar con rangos\n",
    "\n",
    "mmcutils.sortearPuntoRNRangos(2, [(0.2, 0.4), (0.4, 1.0)] )"
   ]
  },
  {
   "cell_type": "markdown",
   "id": "6c953698-f52a-4393-b8a0-38a482327069",
   "metadata": {
    "tags": []
   },
   "source": [
    "### Experimento 1\n",
    "\n",
    "Realizamos los cáluclos tomando $10^6/5$ iteraciones en cada estrato.\n"
   ]
  },
  {
   "cell_type": "code",
   "execution_count": 5,
   "id": "2dc4383d",
   "metadata": {},
   "outputs": [
    {
     "name": "stdout",
     "output_type": "stream",
     "text": [
      "p_i=0.72, S=53.77402121110494, estimZ=0.0002688701060555247\n",
      "p_i=0.10999999999999999, S=479.379421202924, estimZ=0.00239689710601462\n",
      "p_i=0.07000000000000006, S=809.9072849763526, estimZ=0.004049536424881763\n",
      "p_i=0.04999999999999993, S=1127.7331015123066, estimZ=0.005638665507561533\n",
      "p_i=0.050000000000000044, S=1475.5162184704104, estimZ=0.0073775810923520525\n"
     ]
    },
    {
     "data": {
      "text/html": [
       "<h4>Estimación de la integral estratificada: 0.0013915</h4><h4>Estimación de la varianza : 3.5162745e-11</h4><h4>Intervalo de confianza (0.0013799, 0.0014031)</h4><h4>Ancho del I. de confianza (2.3244461e-05)</h4><h4>Error real respecto al VAnalitico (2.6361489e-06)</h4><h4>Error real en pct : 0.190%</h4>"
      ],
      "text/plain": [
       "<IPython.core.display.HTML object>"
      ]
     },
     "execution_count": 5,
     "metadata": {},
     "output_type": "execute_result"
    }
   ],
   "source": [
    "### Experimento 1: muestreo estratificado pero con la misma cantidad de muestras por estrato\n",
    "\n",
    "N = 10**6\n",
    "Rangos = [\n",
    " (0.0, 0.72),\n",
    " (0.72, 0.83),\n",
    " (0.83, 0.90),\n",
    " (0.90, 0.95),\n",
    " (0.95, 1.00)\n",
    "]\n",
    "\n",
    "n_i = [\n",
    "    int(N/len(Rangos)),\n",
    "    int(N/len(Rangos)),\n",
    "    int(N/len(Rangos)),\n",
    "    int(N/len(Rangos)),\n",
    "    int(N/len(Rangos))\n",
    "]\n",
    "\n",
    "Z=0\n",
    "V=0\n",
    "for i, r in enumerate(Rangos):\n",
    "    (estimZ, estimV, S, _) = mmci.integracionMonteCarloStieltjes(F5, n_i[i], \n",
    "                                    lambda x: mmcutils.sortearPuntoRNRangos(5, [(0,1), (0,1),(0,1),(0,1), r ] ) )\n",
    "    p_i = r[1]-r[0]\n",
    "    print(f\"p_i={p_i}, S={S}, estimZ={estimZ}\")\n",
    "    Z = Z + (p_i/n_i[i])*S\n",
    "    V = V + (p_i**2)*estimV\n",
    "# end for\n",
    "\n",
    "# Cálculo del intervalo de confianza al 95% segun aproximación normal\n",
    "\n",
    "(I0, I1) = mmci.intConfianzaAproxNormal(Z, V, N, 0.05)\n",
    "anchoIC = I1-I0\n",
    "errorReal = abs(Z-VAnalitico)\n",
    "errorRealpct = errorReal/VAnalitico*100\n",
    "\n",
    "\n",
    "HTML(f\"<h4>Estimación de la integral estratificada: {Z:.7f}</h4>\"+\n",
    "     f\"<h4>Estimación de la varianza : {V:.7e}</h4>\"+\n",
    "     f\"<h4>Intervalo de confianza ({I0:.7f}, {I1:.7f})</h4>\"+\n",
    "     f\"<h4>Ancho del I. de confianza ({anchoIC:.7e})</h4>\"+\n",
    "     f\"<h4>Error real respecto al VAnalitico ({errorReal:.7e})</h4>\"+\n",
    "     f\"<h4>Error real en pct : {errorRealpct:.3f}%</h4>\")\n"
   ]
  },
  {
   "cell_type": "markdown",
   "id": "c472e12c-9964-4ae6-be46-e6db7216966e",
   "metadata": {},
   "source": [
    "¿Cuántas muestras harían falta en un Montecarlo sin estratificar para lograr esta varianza?"
   ]
  },
  {
   "cell_type": "code",
   "execution_count": 6,
   "id": "9ef80118-6454-4b2d-a04b-117944526103",
   "metadata": {},
   "outputs": [
    {
     "name": "stdout",
     "output_type": "stream",
     "text": [
      "Muestras necesarias en MC sin estratificar 150,011,643\n",
      "Muestras necesarias en MC estratificado 1,350,763\n"
     ]
    }
   ],
   "source": [
    "Nse1 = mmcutils.npuntoN(0.05, 0.00001, estimV, N)\n",
    "Nse2 = mmcutils.npuntoN(0.05, 0.00001, V, N)\n",
    "\n",
    "print(f\"Muestras necesarias en MC sin estratificar {Nse1:,d}\")\n",
    "print(f\"Muestras necesarias en MC estratificado {Nse2:,d}\")"
   ]
  },
  {
   "cell_type": "markdown",
   "id": "c9443724-959e-408f-bca3-d7fc35be76f2",
   "metadata": {},
   "source": [
    "### Experimento 2\n",
    "\n",
    "Realizamos los cálculos tomando una cantidad de iteraciones proporcional a la probablidad de acumulada en cada estrato."
   ]
  },
  {
   "cell_type": "code",
   "execution_count": 7,
   "id": "801b3f29-cb8a-4fac-8421-51013c231fe8",
   "metadata": {},
   "outputs": [
    {
     "data": {
      "text/plain": [
       "[720000, 109999, 70000, 49999, 50000]"
      ]
     },
     "execution_count": 7,
     "metadata": {},
     "output_type": "execute_result"
    }
   ],
   "source": [
    "## Experimento 2 , tomamos ni proporcional a la probabilidad acumulada en cada estrato\n",
    "\n",
    "N = 10**6\n",
    "Rangos = [\n",
    " (0.0, 0.72),\n",
    " (0.72, 0.83),\n",
    " (0.83, 0.90),\n",
    " (0.90, 0.95),\n",
    " (0.95, 1.00)\n",
    "]\n",
    "\n",
    "n_i = []\n",
    "\n",
    "for r in Rangos:\n",
    "    nit = int (N * (r[1]-r[0]) )\n",
    "    n_i.append( nit )\n",
    "    \n",
    "n_i\n"
   ]
  },
  {
   "cell_type": "code",
   "execution_count": 8,
   "id": "ac57417d-7b53-4062-be1e-029cef43b85b",
   "metadata": {},
   "outputs": [
    {
     "name": "stdout",
     "output_type": "stream",
     "text": [
      "p_i=0.72, n_i=720000, S=195.3118255047012, estimZ=0.000271266424312085\n",
      "p_i=0.10999999999999999, n_i=109999, S=259.52760897652985, estimZ=0.002359363348544349\n",
      "p_i=0.07000000000000006, n_i=70000, S=284.3025662756001, estimZ=0.0040614652325085725\n",
      "p_i=0.04999999999999993, n_i=49999, S=278.30263733032643, estimZ=0.005566164069887926\n",
      "p_i=0.050000000000000044, n_i=50000, S=367.6737291753708, estimZ=0.007353474583507416\n"
     ]
    },
    {
     "data": {
      "text/html": [
       "<h4>Estimación de la integral estratificada: 0.0013851</h4><h4>Estimación de la varianza : 8.8667928e-11</h4><h4>Intervalo de confianza (0.0013667, 0.0014036)</h4><h4>Ancho del I. de confianza (3.6911472e-05)</h4><h4>Error real en pct : 0.271%</h4>"
      ],
      "text/plain": [
       "<IPython.core.display.HTML object>"
      ]
     },
     "execution_count": 8,
     "metadata": {},
     "output_type": "execute_result"
    }
   ],
   "source": [
    "## Realizamos calculos con estas muestras por estrato:\n",
    "\n",
    "Z=0\n",
    "V=0\n",
    "for i, r in enumerate(Rangos):\n",
    "    (estimZ, estimV, S, _) = mmci.integracionMonteCarloStieltjes(F5, n_i[i], \n",
    "                                    lambda x: mmcutils.sortearPuntoRNRangos(5, [(0,1), (0,1),(0,1),(0,1), r ] ) )\n",
    "    p_i = r[1]-r[0]\n",
    "    print(f\"p_i={p_i}, n_i={n_i[i]}, S={S}, estimZ={estimZ}\")\n",
    "    Z = Z + (p_i/n_i[i])*S\n",
    "    V = V + (p_i**2)*estimV\n",
    "# end for\n",
    "\n",
    "# Cálculo del intervalo de confianza al 95% segun aproximación normal\n",
    "\n",
    "(I0, I1) = mmci.intConfianzaAproxNormal(Z, V, N, 0.05)\n",
    "anchoIC = I1-I0\n",
    "errorReal = abs(Z-VAnalitico)\n",
    "errorRealpct = errorReal/VAnalitico*100\n",
    "\n",
    "HTML(f\"<h4>Estimación de la integral estratificada: {Z:.7f}</h4>\"+\n",
    "     f\"<h4>Estimación de la varianza : {V:.7e}</h4>\"+\n",
    "     f\"<h4>Intervalo de confianza ({I0:.7f}, {I1:.7f})</h4>\"+\n",
    "     f\"<h4>Ancho del I. de confianza ({anchoIC:.7e})</h4>\"+\n",
    "     f\"<h4>Error real en pct : {errorRealpct:.3f}%</h4>\")\n"
   ]
  },
  {
   "cell_type": "markdown",
   "id": "3c8199ce-3dea-4bcf-b495-9e4f19094455",
   "metadata": {},
   "source": [
    "## Conclusiones\n",
    "\n",
    "- Ambos modos de asignar muestras por estrato muestran mejoras en la varianza respecto al estimador no-estratificado, cumpliendo con el Teorema 2 de las diapositivas.\n",
    "\n",
    "- La asignación de muestras equitativa, es decir asignar la misma cantidad de muestras a cada estrato a pesar de los estratos ser de diferente volumen, es significativamente superior tanto al Montecarlo sin estratificar como a la asignacion de muestras proporcional.\n",
    "\n",
    "- La asignación de muestras proporcional a la probabilidad de cada estrato muestra una mejora pequeña respecto al Montecarlo sin estratificar, tal como explica el Teorema 2\n",
    "\n",
    "El Teorema 2 muestra una forma de asignar las muestras para mejorar la varianza **pero** eso no quiere decir que esa forma sea la mejor. "
   ]
  },
  {
   "cell_type": "markdown",
   "id": "ac61ca9d",
   "metadata": {},
   "source": [
    "## Datos adicionales y referencias\n",
    "\n",
    "### Información acerca del software y hardware utilizados\n",
    "\n",
    "**Software:**\n",
    " - Python 3.8.9 corriendo en macOS 12.4 (Darwin 21.5.0 XNU/ARM64)\n",
    " - Jupyter Notebook \n",
    " \n",
    "**Librerias:** \n",
    " - scipy norm\n",
    " - pathos multiprocessing (para paralelizar ejecuciones)\n",
    " \n",
    "**Hardware:**\n",
    "\n",
    " - Macbook Pro 13 (late 2020, macOS 12.4)\n",
    " - CPU Apple M1 (8 cores)\n",
    " - 8 GB de RAM"
   ]
  },
  {
   "cell_type": "code",
   "execution_count": 9,
   "id": "4eabefb3",
   "metadata": {},
   "outputs": [
    {
     "name": "stdout",
     "output_type": "stream",
     "text": [
      "%% FIN - tiempo total de ejecución 5.765s\n"
     ]
    }
   ],
   "source": [
    "print(f\"%% FIN - tiempo total de ejecución {reloj_ppal.lap():.3f}s\")"
   ]
  },
  {
   "cell_type": "markdown",
   "id": "70469089",
   "metadata": {},
   "source": [
    "## Código de las funciones desarrolladas\n",
    "\n",
    "Adjunto en el archivo _\"integral.py.pdf\" y \"utils.py.pdf_."
   ]
  }
 ],
 "metadata": {
  "interpreter": {
   "hash": "32a88cc9f6851f9e561a0936ef2c97fe374274b1c163c5b44c7e974d69320fe4"
  },
  "kernelspec": {
   "display_name": "Python 3 (ipykernel)",
   "language": "python",
   "name": "python3"
  },
  "language_info": {
   "codemirror_mode": {
    "name": "ipython",
    "version": 3
   },
   "file_extension": ".py",
   "mimetype": "text/x-python",
   "name": "python",
   "nbconvert_exporter": "python",
   "pygments_lexer": "ipython3",
   "version": "3.8.2"
  }
 },
 "nbformat": 4,
 "nbformat_minor": 5
}
