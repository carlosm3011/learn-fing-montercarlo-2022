{
 "cells": [
  {
   "cell_type": "markdown",
   "id": "215e79a1",
   "metadata": {},
   "source": [
    "# Monte Carlo - Unidad 2, Sesion 3 - Ejercicio\n",
    "\n",
    "**Autor**: Carlos M. Martinez, marzo-abril 2022. Reenviado 2025.\n",
    "\n",
    "**Email**: carlosm@fing.edu.uy, carlos@cagnazzo.uy\n",
    "\n",
    "## Problema\n",
    "\n",
    "Se desea estimar el volumen de una region R de [0,1]^6 definida por todos los puntos de la hiper-esfera de centro (0.45, 0.5, 0.6, 0.6, 0.5, 0.45) y radio 0.35 que ademas cumplen con las restricciones 3x1 + 7x4 <= 5; x3+x4 <= 1; x1-x2-x5+x6 >= 0"
   ]
  },
  {
   "cell_type": "markdown",
   "id": "6556bf8a",
   "metadata": {},
   "source": [
    "### Entrega 2 - Ejercicio 3.1\n",
    "\n",
    "#### Parte a: \n",
    "\n",
    "**[Letra]** Implementar un programa que reciba como parametro la\n",
    "cantidad de replicaciones n a realizar, y emplee Monte Carlo para\n",
    "calcular (e imprimir) la estimación del volumen de R, y la desviación\n",
    "estandar de este estimador. Incluir codigo para calcular el tiempo de\n",
    "calculo empleado por el programa. Utilizar el programa con n = 10^4 y\n",
    "luego con n = 10^6 para estimar el volumen de R. Discutir si los dos\n",
    "valores obtenidos parecen consistentes.\n",
    "(en la sesi´on 5 se continuar´a este ejercicio)."
   ]
  },
  {
   "cell_type": "code",
   "execution_count": 1,
   "id": "bf8f33f2",
   "metadata": {},
   "outputs": [],
   "source": [
    "# Instalar dependencias\n",
    "# !pip3 install -q -r requirements.txt"
   ]
  },
  {
   "cell_type": "code",
   "execution_count": 2,
   "id": "e7e41527",
   "metadata": {},
   "outputs": [],
   "source": [
    "import random\n",
    "import math\n",
    "import tabulate\n",
    "import time\n",
    "random.seed()\n",
    "\n",
    "def sortearPuntoRN(dim=2):\n",
    "    \"\"\"\n",
    "    Seortea un punto en R^N dentro del hiper-cubo [0,1]^N\n",
    "    \"\"\"\n",
    "    punto = []\n",
    "    for n in range(0, dim):\n",
    "        punto.append(random.uniform(0.0, 1.0))\n",
    "    # end for\n",
    "\n",
    "    return punto\n",
    "# end fun sortearPuntoRN\n",
    "\n",
    "def puntoDentroVolumen(punto, restricciones=True):\n",
    "    \"\"\"\n",
    "    Devuelve 0 o 1 si un punto esta fuera o dentro de un cierto volumen.\n",
    "    Si restricciones es \"false\", el volumen es la hiperesfera en R6\n",
    "    \"\"\"\n",
    "\n",
    "    # Para que este dentro del volumen tiene que estar dentro de la esfera \n",
    "    # y ademas cumplir con las restricciones adicionales\n",
    "\n",
    "    dentro = 1\n",
    "    fuera = 0\n",
    "\n",
    "    # chequeo 1 : dentro de esfera\n",
    "\n",
    "    d = math.sqrt(\n",
    "        (punto[0]-0.45)**2 +\n",
    "        (punto[1]-0.5)**2 +\n",
    "        (punto[2]-0.6)**2 +\n",
    "        (punto[3]-0.6)**2 +\n",
    "        (punto[4]-0.5)**2 +\n",
    "        (punto[5]-0.45)**2 \n",
    "    )\n",
    "\n",
    "    # si la distancia es mayor al radio, esta fuera\n",
    "    if (d>=0.35) : \n",
    "        return fuera\n",
    "\n",
    "    if restricciones:\n",
    "        # restriccion 1\n",
    "        if 3*punto[0] + 7*punto[3] > 5:\n",
    "            return fuera\n",
    "        # restriccion 2\n",
    "        if punto[2]+punto[3] > 1:\n",
    "            return fuera\n",
    "        # restriccion 3\n",
    "        if punto[0]-punto[1]-punto[4]+punto[5] < 0:\n",
    "            return fuera\n",
    "    else:\n",
    "        return dentro\n",
    "\n",
    "    return dentro\n",
    "# end fun punto dentro del volumen\n",
    "\n",
    "# sortearPuntoRN(6)"
   ]
  },
  {
   "cell_type": "code",
   "execution_count": 3,
   "id": "b98babae",
   "metadata": {},
   "outputs": [],
   "source": [
    "# Implemento pseudocodigo Montecarlo\n",
    "\n",
    "import functools\n",
    "from pathos.multiprocessing import ProcessPool as Pool   \n",
    "\n",
    "#@functools.lru_cache(maxsize=128)\n",
    "def MetodoMonteCarlo(N, FVolumen):\n",
    "    \"\"\"\n",
    "    Implementa el pseudocodigo de MC\n",
    "    N: cantidad de muestras\n",
    "    FVolumen: funcion que define el volumen, devuelve 0 si el punto esta fuera, 1 si esta dentro\n",
    "    \"\"\"\n",
    "    random.seed()\n",
    "    t0 = time.perf_counter()\n",
    "    S = 0\n",
    "    for j in range(0, N):\n",
    "        punto = sortearPuntoRN(6)\n",
    "        if FVolumen(punto):\n",
    "            phi = 1\n",
    "        else: \n",
    "            phi = 0\n",
    "        S = S + phi\n",
    "    # end for\n",
    "    VolR = S / N\n",
    "    VarVorR = (S/N)*(1-S/N)/(N-1)\n",
    "    return (VolR, VarVorR, S,  time.perf_counter()-t0)\n",
    "# end def\n",
    "\n",
    "# Version paralelizada de Montecarlo\n",
    "def MetodoMonteCarloParalelo(N, FVolumen, hilos):\n",
    "    \"\"\"\n",
    "        version paralelizada del montecarlo\n",
    "        N: numero de muestras\n",
    "        FVolumen: funcion que implementa el volumen\n",
    "        hilos: cantidad de hilos en el pool de tareas\n",
    "    \"\"\"\n",
    "    t0 = time.perf_counter()\n",
    "\n",
    "    args1 = []\n",
    "    args2 = [] \n",
    "    for x in range(0,hilos):\n",
    "        args1.append( math.ceil(N/hilos) )\n",
    "        args2.append(FVolumen)\n",
    "    \n",
    "    p = Pool(hilos)\n",
    "    resultados = p.map(MetodoMonteCarlo, args1, args2 )\n",
    "    #print(resultados)\n",
    "\n",
    "    # unir los resultados para producir el resultado final\n",
    "    Stotal = 0\n",
    "    Ntotal = 0\n",
    "    for i in range(0, hilos):\n",
    "        Stotal = Stotal + resultados[i][2]\n",
    "        Ntotal = Ntotal + math.ceil(N/hilos)\n",
    "    #\n",
    "    VolR = Stotal / Ntotal\n",
    "    VarVorR = (Stotal/Ntotal)*(1-Stotal/Ntotal)/(Ntotal-1)\n",
    "\n",
    "    return (VolR, VarVorR, Stotal,  time.perf_counter()-t0)\n",
    "   \n",
    "# end def\n",
    "\n",
    "VolH = math.pi**3*(0.35**6)/6\n",
    "\n",
    "# Caclulo del volumen de la hiperesfera por MMC\n",
    "(VolR, VarVolR, S, execTime) = MetodoMonteCarlo(10**6, lambda x: puntoDentroVolumen(x, False))\n",
    "#print(MetodoMonteCarloParalelo(10**6, lambda x: puntoDentroVolumen(x, False), 4))"
   ]
  },
  {
   "cell_type": "markdown",
   "id": "30791cef",
   "metadata": {},
   "source": [
    "#### Verificación\n",
    "\n",
    "Comparamos el volumen sin restricciones con el volumen calculado analiticamente de la hiperesfera en R6"
   ]
  },
  {
   "cell_type": "code",
   "execution_count": 4,
   "id": "e931f953",
   "metadata": {},
   "outputs": [
    {
     "name": "stdout",
     "output_type": "stream",
     "text": [
      "Volumen hiper esfera por MMC = 9.450000e-03, Varianza = 9.360707e-09\n",
      " \n",
      "Volumen hiper esfera analitico = 9.499629e-03, diferencia MMC - analitico = 0.525%\n"
     ]
    }
   ],
   "source": [
    "print(\"Volumen hiper esfera por MMC = {:e}, Varianza = {:e}\".format(VolR, VarVolR))\n",
    "print(\" \")\n",
    "print(\"Volumen hiper esfera analitico = {:e}, diferencia MMC - analitico = {:.3f}%\".format(VolH, (VolH-VolR)/VolR*100))"
   ]
  },
  {
   "cell_type": "markdown",
   "id": "2dd46b7a",
   "metadata": {},
   "source": [
    "Con un millon de muestras tenemos una diferencia de menos de 1% entre el volumen calculado de forma analitica y el volumen calculado por Montecarlo."
   ]
  },
  {
   "cell_type": "markdown",
   "id": "61d4deb0",
   "metadata": {},
   "source": [
    "#### Ejecución para diferentes tamaños de muestra\n",
    "\n",
    "En esta seccion corremos MMC para calcular el volumen con restricciones para diferentes tamanos de muestra."
   ]
  },
  {
   "cell_type": "code",
   "execution_count": 15,
   "id": "0d02a679",
   "metadata": {},
   "outputs": [
    {
     "data": {
      "text/html": [
       "<table>\n",
       "<tbody>\n",
       "<tr><td>N        </td><td>S    </td><td>Vol hiperesfera (analitico)</td><td>Vol hiperesfera+restricciones</td><td>Varianza    </td><td>Tiempo (s)</td></tr>\n",
       "<tr><td>100      </td><td>0    </td><td>9.499629e-03               </td><td>0.000000e+00                 </td><td>0.000000e+00</td><td>0.000253  </td></tr>\n",
       "<tr><td>1000     </td><td>0    </td><td>9.499629e-03               </td><td>0.000000e+00                 </td><td>0.000000e+00</td><td>0.002405  </td></tr>\n",
       "<tr><td>10000    </td><td>1    </td><td>9.499629e-03               </td><td>1.000000e-04                 </td><td>1.000000e-08</td><td>0.023694  </td></tr>\n",
       "<tr><td>100000   </td><td>20   </td><td>9.499629e-03               </td><td>2.000000e-04                 </td><td>1.999620e-09</td><td>0.113212  </td></tr>\n",
       "<tr><td>1000000  </td><td>289  </td><td>9.499629e-03               </td><td>2.890000e-04                 </td><td>2.889168e-10</td><td>0.922231  </td></tr>\n",
       "<tr><td>10000000 </td><td>2845 </td><td>9.499629e-03               </td><td>2.845000e-04                 </td><td>2.844191e-11</td><td>9.073884  </td></tr>\n",
       "<tr><td>100000000</td><td>28403</td><td>9.499629e-03               </td><td>2.840300e-04                 </td><td>2.839493e-12</td><td>92.401960 </td></tr>\n",
       "</tbody>\n",
       "</table>"
      ],
      "text/plain": [
       "'<table>\\n<tbody>\\n<tr><td>N        </td><td>S    </td><td>Vol hiperesfera (analitico)</td><td>Vol hiperesfera+restricciones</td><td>Varianza    </td><td>Tiempo (s)</td></tr>\\n<tr><td>100      </td><td>0    </td><td>9.499629e-03               </td><td>0.000000e+00                 </td><td>0.000000e+00</td><td>0.000253  </td></tr>\\n<tr><td>1000     </td><td>0    </td><td>9.499629e-03               </td><td>0.000000e+00                 </td><td>0.000000e+00</td><td>0.002405  </td></tr>\\n<tr><td>10000    </td><td>1    </td><td>9.499629e-03               </td><td>1.000000e-04                 </td><td>1.000000e-08</td><td>0.023694  </td></tr>\\n<tr><td>100000   </td><td>20   </td><td>9.499629e-03               </td><td>2.000000e-04                 </td><td>1.999620e-09</td><td>0.113212  </td></tr>\\n<tr><td>1000000  </td><td>289  </td><td>9.499629e-03               </td><td>2.890000e-04                 </td><td>2.889168e-10</td><td>0.922231  </td></tr>\\n<tr><td>10000000 </td><td>2845 </td><td>9.499629e-03               </td><td>2.845000e-04                 </td><td>2.844191e-11</td><td>9.073884  </td></tr>\\n<tr><td>100000000</td><td>28403</td><td>9.499629e-03               </td><td>2.840300e-04                 </td><td>2.839493e-12</td><td>92.401960 </td></tr>\\n</tbody>\\n</table>'"
      ]
     },
     "execution_count": 15,
     "metadata": {},
     "output_type": "execute_result"
    }
   ],
   "source": [
    "table = [ ['N', 'S', 'Vol hiperesfera (analitico)', 'Vol hiperesfera+restricciones', 'Varianza', 'Tiempo (s)'] ]\n",
    "\n",
    "for n in [2, 3, 4, 5, 6, 7, 8]:\n",
    "    (VolR, VarVolR, S, execTime) = MetodoMonteCarlo(10**n, lambda x: puntoDentroVolumen(x, True))\n",
    "    table.append( [10**n, S, \"{:3e}\".format(VolH), \"{:3e}\".format(VolR), \"{:3e}\".format(VarVolR), \"{:3f}\".format(execTime)] )\n",
    "\n",
    "\n",
    "tabulate.tabulate(table, tablefmt='html')"
   ]
  },
  {
   "cell_type": "markdown",
   "id": "56e6e186",
   "metadata": {},
   "source": [
    "Entre las corridas de 10mil y 1millon de muestras hay una diferencia de un 7.6% aproximadamente. Los resultados parecen coherentes en el sentido de que al aumentar el tamano de la muestra el resultado parece tender a un valor y no parece diverger. La varianza estimada tambien decrece al aumentar el tamano de la muestra, otro resultado esperable.\n",
    "\n",
    "El volumen determinado para la hiperesfera con restricciones es consistentemente menor al volumen de la hiperesfera sin restricciones, lo cual tiene sentido ya que las restricciones justamente eliminan puntos del volumen en cuestión."
   ]
  },
  {
   "cell_type": "markdown",
   "id": "5bb1af8d-cdb0-4aa4-8c94-19223d0d776e",
   "metadata": {},
   "source": [
    "#### Paralelización de operaciones\n",
    "\n",
    "Implemento la misma estimación de Montecarlo pero utilizando una implementación paralela, en este caso con 4 hilos."
   ]
  },
  {
   "cell_type": "code",
   "execution_count": 18,
   "id": "8f9be2bd-4d95-4f09-bb2c-f213084d4215",
   "metadata": {},
   "outputs": [
    {
     "data": {
      "text/html": [
       "<table>\n",
       "<tbody>\n",
       "<tr><td>N         </td><td>S     </td><td>Vol hiperesfera (analitico)</td><td>Vol hiperesfera+restricciones</td><td>Varianza    </td><td>Tiempo (s)</td></tr>\n",
       "<tr><td>100       </td><td>0     </td><td>9.499629e-03               </td><td>0.000000e+00                 </td><td>0.000000e+00</td><td>0.012158  </td></tr>\n",
       "<tr><td>1000      </td><td>2     </td><td>9.499629e-03               </td><td>2.000000e-03                 </td><td>1.997998e-06</td><td>0.012879  </td></tr>\n",
       "<tr><td>10000     </td><td>2     </td><td>9.499629e-03               </td><td>2.000000e-04                 </td><td>1.999800e-08</td><td>0.020425  </td></tr>\n",
       "<tr><td>100000    </td><td>26    </td><td>9.499629e-03               </td><td>2.600000e-04                 </td><td>2.599350e-09</td><td>0.069082  </td></tr>\n",
       "<tr><td>1000000   </td><td>314   </td><td>9.499629e-03               </td><td>3.140000e-04                 </td><td>3.139017e-10</td><td>0.158794  </td></tr>\n",
       "<tr><td>10000000  </td><td>2873  </td><td>9.499629e-03               </td><td>2.873000e-04                 </td><td>2.872175e-11</td><td>1.278250  </td></tr>\n",
       "<tr><td>100000000 </td><td>28135 </td><td>9.499629e-03               </td><td>2.813500e-04                 </td><td>2.812708e-12</td><td>12.958274 </td></tr>\n",
       "<tr><td>1000000000</td><td>283064</td><td>9.499629e-03               </td><td>2.830640e-04                 </td><td>2.829839e-13</td><td>131.792319</td></tr>\n",
       "</tbody>\n",
       "</table>"
      ],
      "text/plain": [
       "'<table>\\n<tbody>\\n<tr><td>N         </td><td>S     </td><td>Vol hiperesfera (analitico)</td><td>Vol hiperesfera+restricciones</td><td>Varianza    </td><td>Tiempo (s)</td></tr>\\n<tr><td>100       </td><td>0     </td><td>9.499629e-03               </td><td>0.000000e+00                 </td><td>0.000000e+00</td><td>0.012158  </td></tr>\\n<tr><td>1000      </td><td>2     </td><td>9.499629e-03               </td><td>2.000000e-03                 </td><td>1.997998e-06</td><td>0.012879  </td></tr>\\n<tr><td>10000     </td><td>2     </td><td>9.499629e-03               </td><td>2.000000e-04                 </td><td>1.999800e-08</td><td>0.020425  </td></tr>\\n<tr><td>100000    </td><td>26    </td><td>9.499629e-03               </td><td>2.600000e-04                 </td><td>2.599350e-09</td><td>0.069082  </td></tr>\\n<tr><td>1000000   </td><td>314   </td><td>9.499629e-03               </td><td>3.140000e-04                 </td><td>3.139017e-10</td><td>0.158794  </td></tr>\\n<tr><td>10000000  </td><td>2873  </td><td>9.499629e-03               </td><td>2.873000e-04                 </td><td>2.872175e-11</td><td>1.278250  </td></tr>\\n<tr><td>100000000 </td><td>28135 </td><td>9.499629e-03               </td><td>2.813500e-04                 </td><td>2.812708e-12</td><td>12.958274 </td></tr>\\n<tr><td>1000000000</td><td>283064</td><td>9.499629e-03               </td><td>2.830640e-04                 </td><td>2.829839e-13</td><td>131.792319</td></tr>\\n</tbody>\\n</table>'"
      ]
     },
     "execution_count": 18,
     "metadata": {},
     "output_type": "execute_result"
    }
   ],
   "source": [
    "table = [ ['N', 'S', 'Vol hiperesfera (analitico)', 'Vol hiperesfera+restricciones', 'Varianza', 'Tiempo (s)'] ]\n",
    "\n",
    "for n in [2, 3, 4, 5, 6, 7, 8, 9]:\n",
    "    (VolR, VarVolR, S, execTime) = MetodoMonteCarloParalelo(10**n, lambda x: puntoDentroVolumen(x, True), 8)\n",
    "    table.append( [10**n, S, \"{:3e}\".format(VolH), \"{:3e}\".format(VolR), \"{:3e}\".format(VarVolR), \"{:3f}\".format(execTime)] )\n",
    "\n",
    "\n",
    "tabulate.tabulate(table, tablefmt='html')"
   ]
  },
  {
   "cell_type": "markdown",
   "id": "c4ab590c",
   "metadata": {},
   "source": [
    "### Entrega 2 : Ejercicio 4.1\n",
    "\n",
    "**[Letra]** 1. Comparar y discutir la dependencia de los criterios de peor caso nC,\n",
    "nN, nH frente a los parámetros epsilon y δ.\n",
    "\n",
    "_En el caso de nC:_\n",
    "\n",
    "- Si dejamos epsilon fijo, el tamaño de la muestra tiende a infinito de forma similar a 1/x (cuando x tiende a cero)\n",
    "- Si dejamos delta fijo, tiende a infinito como 1/x^2\n",
    "\n",
    "**[Letra]** 2. Calcular nC, nN, nH para epsilon = 0:01, δ = 0:001; 0:01; 0:05\n",
    "\n",
    "_Nota: utilizo la funcion scipy.stats.norm.ppf del paquete SciPy para implementar la inversa de la normal_"
   ]
  },
  {
   "cell_type": "code",
   "execution_count": 6,
   "id": "7b7404f2",
   "metadata": {},
   "outputs": [
    {
     "data": {
      "text/html": [
       "<table>\n",
       "<tbody>\n",
       "<tr><td>estimador</td><td>epsilon</td><td>delta</td><td>tam. muestra</td></tr>\n",
       "<tr><td>cheby    </td><td>0.01   </td><td>0.001</td><td>2,500,000   </td></tr>\n",
       "<tr><td>tcl      </td><td>0.01   </td><td>0.001</td><td>27,069      </td></tr>\n",
       "<tr><td>hoeff    </td><td>0.01   </td><td>0.001</td><td>38,005      </td></tr>\n",
       "<tr><td>---      </td><td>---    </td><td>---  </td><td>---         </td></tr>\n",
       "<tr><td>cheby    </td><td>0.01   </td><td>0.01 </td><td>250,000     </td></tr>\n",
       "<tr><td>tcl      </td><td>0.01   </td><td>0.01 </td><td>16,588      </td></tr>\n",
       "<tr><td>hoeff    </td><td>0.01   </td><td>0.01 </td><td>26,492      </td></tr>\n",
       "<tr><td>---      </td><td>---    </td><td>---  </td><td>---         </td></tr>\n",
       "<tr><td>cheby    </td><td>0.01   </td><td>0.05 </td><td>50,000      </td></tr>\n",
       "<tr><td>tcl      </td><td>0.01   </td><td>0.05 </td><td>9,604       </td></tr>\n",
       "<tr><td>hoeff    </td><td>0.01   </td><td>0.05 </td><td>18,445      </td></tr>\n",
       "<tr><td>---      </td><td>---    </td><td>---  </td><td>---         </td></tr>\n",
       "</tbody>\n",
       "</table>"
      ],
      "text/plain": [
       "'<table>\\n<tbody>\\n<tr><td>estimador</td><td>epsilon</td><td>delta</td><td>tam. muestra</td></tr>\\n<tr><td>cheby    </td><td>0.01   </td><td>0.001</td><td>2,500,000   </td></tr>\\n<tr><td>tcl      </td><td>0.01   </td><td>0.001</td><td>27,069      </td></tr>\\n<tr><td>hoeff    </td><td>0.01   </td><td>0.001</td><td>38,005      </td></tr>\\n<tr><td>---      </td><td>---    </td><td>---  </td><td>---         </td></tr>\\n<tr><td>cheby    </td><td>0.01   </td><td>0.01 </td><td>250,000     </td></tr>\\n<tr><td>tcl      </td><td>0.01   </td><td>0.01 </td><td>16,588      </td></tr>\\n<tr><td>hoeff    </td><td>0.01   </td><td>0.01 </td><td>26,492      </td></tr>\\n<tr><td>---      </td><td>---    </td><td>---  </td><td>---         </td></tr>\\n<tr><td>cheby    </td><td>0.01   </td><td>0.05 </td><td>50,000      </td></tr>\\n<tr><td>tcl      </td><td>0.01   </td><td>0.05 </td><td>9,604       </td></tr>\\n<tr><td>hoeff    </td><td>0.01   </td><td>0.05 </td><td>18,445      </td></tr>\\n<tr><td>---      </td><td>---    </td><td>---  </td><td>---         </td></tr>\\n</tbody>\\n</table>'"
      ]
     },
     "execution_count": 6,
     "metadata": {},
     "output_type": "execute_result"
    }
   ],
   "source": [
    "from scipy.stats import norm\n",
    "\n",
    "# Formula de Chebyshev\n",
    "def tamMuestraChebyshev(epsilon, delta):\n",
    "    nc =  1.0 / (4.0 * delta * epsilon**2)\n",
    "    return math.ceil(nc)\n",
    "#\n",
    "\n",
    "# Formula Teo Central Limite\n",
    "def tamMuestraTeoCentralLimite(epsilon, delta):\n",
    "    x = norm.ppf(1.0 - delta/2.0)\n",
    "    # nn = norm.ppf(x)**2\n",
    "    return math.ceil( ( x/ (2.0*epsilon) ) **2 )\n",
    "    # return x\n",
    "# \n",
    "\n",
    "# Formula de Hoeffding\n",
    "def tamMuestraHoeffding(epsilon, delta):\n",
    "    \"\"\"\n",
    "    Estimacion del tamano de muestra segun Hoeffding.\n",
    "    epsilon: error\n",
    "    delta: confianza\n",
    "    \"\"\"\n",
    "    num = 2 * math.log(2/delta)\n",
    "    den = 4 * epsilon**2\n",
    "    return math.ceil(num/den)\n",
    "# end def\n",
    "\n",
    "tabla2 = [ ['estimador', 'epsilon', 'delta', 'tam. muestra'] ]\n",
    "\n",
    "epsilon = 0.01\n",
    "for delta in [0.001, 0.01, 0.05]:\n",
    "    tm_cheby = tamMuestraChebyshev(epsilon, delta)\n",
    "    tabla2.append( ['cheby', epsilon, delta, f'{tm_cheby:,}'] )\n",
    "    #\n",
    "    tm_tcl = tamMuestraTeoCentralLimite(epsilon, delta)\n",
    "    tabla2.append( ['tcl', epsilon, delta, f'{tm_tcl:,}'] )\n",
    "    #\n",
    "    tm_hoeff = tamMuestraHoeffding(epsilon, delta)\n",
    "    tabla2.append( ['hoeff', epsilon, delta, f'{tm_hoeff:,}'] )\n",
    "    #\n",
    "    tabla2.append( ['---', '---', '---', '---'] )\n",
    "        \n",
    "# end for\n",
    "\n",
    "tabulate.tabulate(tabla2, tablefmt='html')"
   ]
  },
  {
   "cell_type": "markdown",
   "id": "10c4fd1f",
   "metadata": {},
   "source": [
    "### Entrega 2 : Ejercicio 5.1\n",
    "\n",
    "Para el mismo enunciado de mas arriba (estimación de un volumen con restricciones) se pide:\n",
    "\n",
    "#### Parte a\n",
    "\n",
    "**[Letra]**: Compartir en el grupo los códigos desarrollados para la parte a,\n",
    "validarlos revisando los códigos, y verificando si las salidas para tamaños\n",
    "de muestra de 106 son consistentes. Indicar si se detectaron errores en\n",
    "los mismos, y en ese caso dar los códigos corregidos. Elegir uno de los\n",
    "códigos para las partes siguientes, explicar los motivos de la selecci´on.\n",
    "\n",
    "*Por el momento sigo trabajando con mi código en Python ya que llegué con retraso a la elección de grupo*.\n",
    "\n",
    "#### Parte b\n",
    "\n",
    "**[Letra]**: calcular la cantidad de replicaciones a realizar para garantizar\n",
    "un error menor a 1:0 × 10−4 con probabilidad 0:95, utilizando el criterio\n",
    "de peor caso de Hoeffding."
   ]
  },
  {
   "cell_type": "code",
   "execution_count": 7,
   "id": "9948fea3",
   "metadata": {},
   "outputs": [
    {
     "data": {
      "text/plain": [
       "'184,443,973'"
      ]
     },
     "execution_count": 7,
     "metadata": {},
     "output_type": "execute_result"
    }
   ],
   "source": [
    "tm_hoeff = tamMuestraHoeffding(10**-4, 0.05)\n",
    "f'{tm_hoeff:,}'"
   ]
  },
  {
   "cell_type": "markdown",
   "id": "bd4cf6f0",
   "metadata": {},
   "source": [
    "#### Parte c\n",
    "\n",
    "**[Letra]** utilizando el código elegido en la parte a, y la cantidad de\n",
    "replicaciones definida en el punto anterior, calcular el intervalo de\n",
    "confianza de nivel 0:95 utilizando el criterio de Chebyshev, y el criterio\n",
    "de Agresti-Coull. Comparar el ancho de estos intervalos entre sí y con el\n",
    "criterio de error manejado en el punto previo."
   ]
  },
  {
   "cell_type": "markdown",
   "id": "8cc4ee10",
   "metadata": {},
   "source": [
    "### Calculo del volumen con restricciones para el tamaño de muestra de Hoeffding\n",
    "\n",
    "Primero calcularemos el volumen para el tamaño de muestra hallado anteriormente, determinando tambien el valor de S (cantidad de muestras que cayeron dentro del volumen)"
   ]
  },
  {
   "cell_type": "code",
   "execution_count": 8,
   "id": "9472abca",
   "metadata": {},
   "outputs": [
    {
     "data": {
      "text/html": [
       "<table>\n",
       "<tbody>\n",
       "<tr><td>N        </td><td>S    </td><td>Vol hiperesfera (analitico)</td><td>Vol hiperesfera+restricciones</td><td>Varianza    </td><td>Tiempo (s)</td></tr>\n",
       "<tr><td>184443973</td><td>52362</td><td>9.499629e-03               </td><td>2.838911e-04                 </td><td>1.538735e-12</td><td>24.121446 </td></tr>\n",
       "</tbody>\n",
       "</table>"
      ],
      "text/plain": [
       "'<table>\\n<tbody>\\n<tr><td>N        </td><td>S    </td><td>Vol hiperesfera (analitico)</td><td>Vol hiperesfera+restricciones</td><td>Varianza    </td><td>Tiempo (s)</td></tr>\\n<tr><td>184443973</td><td>52362</td><td>9.499629e-03               </td><td>2.838911e-04                 </td><td>1.538735e-12</td><td>24.121446 </td></tr>\\n</tbody>\\n</table>'"
      ]
     },
     "execution_count": 8,
     "metadata": {},
     "output_type": "execute_result"
    }
   ],
   "source": [
    "table3 = [ ['N', 'S', 'Vol hiperesfera (analitico)', 'Vol hiperesfera+restricciones', 'Varianza', 'Tiempo (s)'] ]\n",
    "\n",
    "# tm_hoeff = 10**5\n",
    "(VolR, VarVolR, S, execTime) = MetodoMonteCarloParalelo(tm_hoeff, lambda x: puntoDentroVolumen(x, True), 8)\n",
    "table3.append( [tm_hoeff, S, \"{:3e}\".format(VolH), \"{:3e}\".format(VolR), \"{:3e}\".format(VarVolR), \"{:3f}\".format(execTime)] )\n",
    "\n",
    "\n",
    "tabulate.tabulate(table3, tablefmt='html')"
   ]
  },
  {
   "cell_type": "markdown",
   "id": "d5d3a89f",
   "metadata": {},
   "source": [
    "### Cálculo del intervalo de confianza según criterio de Chebyshev"
   ]
  },
  {
   "cell_type": "code",
   "execution_count": 9,
   "id": "bcfa394f",
   "metadata": {},
   "outputs": [
    {
     "data": {
      "text/plain": [
       "'(2.838291e-04,2.839531e-04)'"
      ]
     },
     "execution_count": 9,
     "metadata": {},
     "output_type": "execute_result"
    }
   ],
   "source": [
    "## Calculo de int de confianza por Chebyshev\n",
    "\n",
    "def intConfianzaChebyshev(S, n, delta):\n",
    "    \"\"\"\n",
    "    Intervalo de confianza segun Chebyshev.\n",
    "    Parámetros:\n",
    "      - S: estimador, cantidad de puntos que caen dentro del volumen\n",
    "      - n: cantidad de replicas (puntos sorteados)\n",
    "      - delta: margen\n",
    "    \"\"\"\n",
    "    def w1(z, n, beta):\n",
    "        num = z + beta**2 - beta*math.sqrt( beta**2/4 + z*(n-z)/n )\n",
    "        den = n + beta**2\n",
    "        return num / den \n",
    "    # end def w1\n",
    "\n",
    "    def w2(z, n, beta):\n",
    "        num = z + beta**2 + beta*math.sqrt( beta**2/4 + z*(n-z)/n )\n",
    "        den = n + beta**2\n",
    "        return num / den\n",
    "    # end def w2\n",
    "\n",
    "    return ( w1(S, n, delta), w2(S, n, delta) )\n",
    "## end intConfianzaChebyshev\n",
    "\n",
    "(i1, i2) = intConfianzaChebyshev( S, tm_hoeff, 0.05 )\n",
    "f'({i1:4e},{i2:4e})'"
   ]
  },
  {
   "cell_type": "markdown",
   "id": "1ff210b2",
   "metadata": {},
   "source": [
    "¿Donde cae el valor del volumen calculado dentro del intervalo de confianza?"
   ]
  },
  {
   "cell_type": "code",
   "execution_count": 10,
   "id": "b82b71e8",
   "metadata": {},
   "outputs": [
    {
     "name": "stdout",
     "output_type": "stream",
     "text": [
      "Distancia desde el min del intervalo: 6.200472179614244e-08\n",
      "Distancia desde al max del intervalo: 6.204105763808407e-08\n"
     ]
    }
   ],
   "source": [
    "print(\"Distancia desde el min del intervalo:\",VolR-i1)\n",
    "print(\"Distancia desde al max del intervalo:\",i2-VolR)"
   ]
  },
  {
   "cell_type": "markdown",
   "id": "8128a89b",
   "metadata": {},
   "source": [
    "Vemos que el valor calculado cae dentro del intervalo de confianza, aunque levemente desplazado del centro del mismo."
   ]
  },
  {
   "cell_type": "markdown",
   "id": "b8d4b851",
   "metadata": {},
   "source": [
    "### Cálculo del intervalo de confianza según el criterio de Agresti-Coull"
   ]
  },
  {
   "cell_type": "code",
   "execution_count": 11,
   "id": "bcce291c",
   "metadata": {},
   "outputs": [],
   "source": [
    "## intervalo de confianza de Agresti-Coull\n",
    "\n",
    "from scipy.stats import norm\n",
    "\n",
    "def intConfianzaAC(S, n, delta):\n",
    "    \"\"\"\n",
    "    Intervalo de confianza segun Agresti Coull.\n",
    "    Parámetros:\n",
    "      - S: estimador, cantidad de puntos que caen dentro del volumen\n",
    "      - n: cantidad de replicas (puntos sorteados)\n",
    "      - delta: margen, si el intervalo de conf es 95%, entonces delta = 0.05\n",
    "    \"\"\"\n",
    "    kappa = norm.ppf(1-delta/2)\n",
    "\n",
    "    Xg = S + kappa**2/2\n",
    "    ng = n + kappa**2\n",
    "\n",
    "    pg = Xg / ng\n",
    "    qg = 1 - pg\n",
    "\n",
    "    disc = kappa * math.sqrt(pg*qg)*( 1/math.sqrt(ng))\n",
    "\n",
    "    return (pg-disc, pg+disc)\n",
    "## end intConfianzaAC"
   ]
  },
  {
   "cell_type": "markdown",
   "id": "64c0aaf2",
   "metadata": {},
   "source": [
    "El valor obtenido para el intervalo de confianza según Agresti-Coull es:"
   ]
  },
  {
   "cell_type": "code",
   "execution_count": 12,
   "id": "b81620b0",
   "metadata": {},
   "outputs": [
    {
     "data": {
      "text/plain": [
       "'(2.814702e-04,2.863328e-04)'"
      ]
     },
     "execution_count": 12,
     "metadata": {},
     "output_type": "execute_result"
    }
   ],
   "source": [
    "(i1ac, i2ac) = intConfianzaAC( S, tm_hoeff, 0.05 )\n",
    "f'({i1ac:4e},{i2ac:4e})'"
   ]
  },
  {
   "cell_type": "markdown",
   "id": "e811e0dd",
   "metadata": {},
   "source": [
    "¿Donde cae el valor calculado dentro del intervalo de confianza?"
   ]
  },
  {
   "cell_type": "code",
   "execution_count": 13,
   "id": "2dc93573",
   "metadata": {},
   "outputs": [
    {
     "name": "stdout",
     "output_type": "stream",
     "text": [
      "Distancia desde el min del intervalo Agresti-Coull: 2.4208847899214445e-06\n",
      "Distancia desde al max del intervalo Agresti-Coull: 2.441709438799481e-06\n"
     ]
    }
   ],
   "source": [
    "print(\"Distancia desde el min del intervalo Agresti-Coull:\",VolR-i1ac)\n",
    "print(\"Distancia desde al max del intervalo Agresti-Coull:\",i2ac-VolR)"
   ]
  },
  {
   "cell_type": "markdown",
   "id": "1e05f4fc",
   "metadata": {},
   "source": [
    "El intervalo de Agresti-Coull parece más amplio que el de Chebyshev."
   ]
  },
  {
   "cell_type": "markdown",
   "id": "4157dd31",
   "metadata": {},
   "source": [
    "### Visualización de los diferentes intervalos de confianza\n"
   ]
  },
  {
   "cell_type": "code",
   "execution_count": 14,
   "id": "0c705c30",
   "metadata": {},
   "outputs": [
    {
     "data": {
      "image/png": "[encoded data removed]",
      "text/plain": [
       "<Figure size 640x480 with 1 Axes>"
      ]
     },
     "metadata": {},
     "output_type": "display_data"
    }
   ],
   "source": [
    "import matplotlib.pyplot as plt\n",
    "import numpy as np\n",
    "\n",
    "x_ticks = (\"Chebyshev\", \"Agresti-Coull\")\n",
    "\n",
    "x_1 = [1, 2]\n",
    "\n",
    "y_1 = [VolR, VolR]\n",
    "\n",
    "err_1 = [[i1, i2],  [i1ac, i2ac]]\n",
    "\n",
    "plt.errorbar(x=x_1, y=y_1, yerr=err_1, color=\"black\", capsize=3,\n",
    "             linestyle=\"None\",\n",
    "             marker=\"s\", markersize=7, mfc=\"black\", mec=\"black\")\n",
    "\n",
    "plt.xticks(x_1, x_ticks, rotation=90)\n",
    "\n",
    "plt.tight_layout()\n",
    "plt.show()"
   ]
  },
  {
   "cell_type": "code",
   "execution_count": null,
   "id": "4ad3e5ce",
   "metadata": {},
   "outputs": [],
   "source": []
  }
 ],
 "metadata": {
  "interpreter": {
   "hash": "767d51c1340bd893661ea55ea3124f6de3c7a262a8b4abca0554b478b1e2ff90"
  },
  "kernelspec": {
   "display_name": "Python 3 (ipykernel)",
   "language": "python",
   "name": "python3"
  },
  "language_info": {
   "codemirror_mode": {
    "name": "ipython",
    "version": 3
   },
   "file_extension": ".py",
   "mimetype": "text/x-python",
   "name": "python",
   "nbconvert_exporter": "python",
   "pygments_lexer": "ipython3",
   "version": "3.13.2"
  }
 },
 "nbformat": 4,
 "nbformat_minor": 5
}
